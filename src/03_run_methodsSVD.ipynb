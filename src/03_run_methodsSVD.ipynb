{
 "cells": [
  {
   "cell_type": "code",
   "execution_count": 11,
   "metadata": {},
   "outputs": [],
   "source": [
    "from sklearn.decomposition import TruncatedSVD\n",
    "from sklearn.preprocessing import StandardScaler\n",
    "from sklearn.model_selection import train_test_split, GridSearchCV\n",
    "from sklearn.metrics import accuracy_score, f1_score, confusion_matrix, precision_score\n",
    "from sklearn.linear_model import LogisticRegression\n",
    "from sklearn.neighbors import KNeighborsClassifier\n",
    "from sklearn.svm import SVC\n",
    "from sklearn.tree import DecisionTreeClassifier\n",
    "from sklearn.ensemble import RandomForestClassifier\n",
    "from matplotlib import pyplot as plt"
   ]
  },
  {
   "cell_type": "code",
   "execution_count": 3,
   "metadata": {},
   "outputs": [],
   "source": [
    "from data_processing import process_data"
   ]
  },
  {
   "cell_type": "code",
   "execution_count": 4,
   "metadata": {},
   "outputs": [],
   "source": [
    "def evaluate_prediction(y_test, y_predicted):\n",
    "    acc = accuracy_score(y_test, y_predicted)\n",
    "    f1 = f1_score(y_test, y_predicted, average='macro')\n",
    "    prec = precision_score(y_test, y_predicted, average='macro', zero_division=0)\n",
    "    rec = precision_score(y_test, y_predicted, average='macro')\n",
    "    confMat = confusion_matrix(y_test, y_predicted)\n",
    "    \n",
    "    return {\"accuracy\": acc, \"f1\": f1, \"precision\": prec, \"recall\": rec, \"confusion_matrix\": confMat}"
   ]
  },
  {
   "cell_type": "code",
   "execution_count": 5,
   "metadata": {},
   "outputs": [
    {
     "name": "stderr",
     "output_type": "stream",
     "text": [
      "/home/mira/.local/lib/python3.8/site-packages/sklearn/preprocessing/_encoders.py:975: FutureWarning: `sparse` was renamed to `sparse_output` in version 1.2 and will be removed in 1.4. `sparse_output` is ignored unless you leave `sparse` to its default value.\n",
      "  warnings.warn(\n"
     ]
    },
    {
     "data": {
      "text/plain": [
       "(19348, 612)"
      ]
     },
     "execution_count": 5,
     "metadata": {},
     "output_type": "execute_result"
    }
   ],
   "source": [
    "data = process_data()\n",
    "data.shape"
   ]
  },
  {
   "cell_type": "code",
   "execution_count": 6,
   "metadata": {},
   "outputs": [
    {
     "data": {
      "text/plain": [
       "array(['match_id', 'stage', 'home_buildUpPlaySpeed',\n",
       "       'home_buildUpPlayPassing', 'home_chanceCreationPassing',\n",
       "       'home_chanceCreationShooting', 'home_defencePressure',\n",
       "       'home_defenceAggression', 'home_defenceTeamWidth',\n",
       "       'away_buildUpPlaySpeed', 'away_buildUpPlayPassing',\n",
       "       'away_chanceCreationPassing', 'away_chanceCreationShooting',\n",
       "       'away_defencePressure', 'away_defenceAggression',\n",
       "       'away_defenceTeamWidth', 'home_mean_height', 'away_mean_height',\n",
       "       'home_mean_weight', 'away_mean_weight', 'home_mean_age',\n",
       "       'away_mean_age', 'home_std_height', 'away_std_height',\n",
       "       'home_std_weight', 'away_std_weight', 'home_std_age',\n",
       "       'away_std_age', 'match_outcome', 'season_2009/2010',\n",
       "       'season_2010/2011', 'season_2011/2012', 'season_2012/2013',\n",
       "       'season_2013/2014', 'season_2014/2015', 'season_2015/2016',\n",
       "       'country_id_1', 'country_id_1729', 'country_id_4769',\n",
       "       'country_id_7809', 'country_id_10257', 'country_id_13274',\n",
       "       'country_id_15722', 'country_id_17642', 'country_id_19694',\n",
       "       'country_id_21518', 'country_id_24558', 'league_id_1',\n",
       "       'league_id_1729', 'league_id_4769', 'league_id_7809',\n",
       "       'league_id_10257', 'league_id_13274', 'league_id_15722',\n",
       "       'league_id_17642', 'league_id_19694', 'league_id_21518',\n",
       "       'league_id_24558', 'home_team_id_1601', 'home_team_id_1773',\n",
       "       'home_team_id_1957', 'home_team_id_2033', 'home_team_id_2182',\n",
       "       'home_team_id_2183', 'home_team_id_2186', 'home_team_id_4087',\n",
       "       'home_team_id_4170', 'home_team_id_6269', 'home_team_id_6351',\n",
       "       'home_team_id_6391', 'home_team_id_6403', 'home_team_id_6413',\n",
       "       'home_team_id_6421', 'home_team_id_6433', 'home_team_id_6493',\n",
       "       'home_team_id_7730', 'home_team_id_7788', 'home_team_id_7794',\n",
       "       'home_team_id_7819', 'home_team_id_7841', 'home_team_id_7842',\n",
       "       'home_team_id_7844', 'home_team_id_7869', 'home_team_id_7878',\n",
       "       'home_team_id_7943', 'home_team_id_7955', 'home_team_id_8019',\n",
       "       'home_team_id_8020', 'home_team_id_8021', 'home_team_id_8023',\n",
       "       'home_team_id_8024', 'home_team_id_8025', 'home_team_id_8027',\n",
       "       'home_team_id_8028', 'home_team_id_8030', 'home_team_id_8031',\n",
       "       'home_team_id_8033', 'home_team_id_8066', 'home_team_id_8121',\n",
       "       'home_team_id_8152', 'home_team_id_8165', 'home_team_id_8177',\n",
       "       'home_team_id_8178', 'home_team_id_8191', 'home_team_id_8194',\n",
       "       'home_team_id_8197', 'home_team_id_8203', 'home_team_id_8226',\n",
       "       'home_team_id_8234', 'home_team_id_8242', 'home_team_id_8244',\n",
       "       'home_team_id_8245', 'home_team_id_8262', 'home_team_id_8277',\n",
       "       'home_team_id_8284', 'home_team_id_8302', 'home_team_id_8305',\n",
       "       'home_team_id_8306', 'home_team_id_8315', 'home_team_id_8322',\n",
       "       'home_team_id_8342', 'home_team_id_8344', 'home_team_id_8348',\n",
       "       'home_team_id_8350', 'home_team_id_8357', 'home_team_id_8358',\n",
       "       'home_team_id_8370', 'home_team_id_8371', 'home_team_id_8372',\n",
       "       'home_team_id_8394', 'home_team_id_8406', 'home_team_id_8426',\n",
       "       'home_team_id_8429', 'home_team_id_8455', 'home_team_id_8456',\n",
       "       'home_team_id_8457', 'home_team_id_8460', 'home_team_id_8462',\n",
       "       'home_team_id_8464', 'home_team_id_8466', 'home_team_id_8467',\n",
       "       'home_team_id_8472', 'home_team_id_8475', 'home_team_id_8481',\n",
       "       'home_team_id_8483', 'home_team_id_8485', 'home_team_id_8521',\n",
       "       'home_team_id_8524', 'home_team_id_8525', 'home_team_id_8526',\n",
       "       'home_team_id_8528', 'home_team_id_8529', 'home_team_id_8530',\n",
       "       'home_team_id_8533', 'home_team_id_8534', 'home_team_id_8535',\n",
       "       'home_team_id_8537', 'home_team_id_8540', 'home_team_id_8543',\n",
       "       'home_team_id_8548', 'home_team_id_8550', 'home_team_id_8551',\n",
       "       'home_team_id_8558', 'home_team_id_8559', 'home_team_id_8560',\n",
       "       'home_team_id_8564', 'home_team_id_8569', 'home_team_id_8571',\n",
       "       'home_team_id_8573', 'home_team_id_8576', 'home_team_id_8581',\n",
       "       'home_team_id_8583', 'home_team_id_8586', 'home_team_id_8588',\n",
       "       'home_team_id_8592', 'home_team_id_8593', 'home_team_id_8596',\n",
       "       'home_team_id_8597', 'home_team_id_8600', 'home_team_id_8602',\n",
       "       'home_team_id_8603', 'home_team_id_8611', 'home_team_id_8613',\n",
       "       'home_team_id_8614', 'home_team_id_8633', 'home_team_id_8634',\n",
       "       'home_team_id_8635', 'home_team_id_8636', 'home_team_id_8639',\n",
       "       'home_team_id_8640', 'home_team_id_8649', 'home_team_id_8650',\n",
       "       'home_team_id_8654', 'home_team_id_8655', 'home_team_id_8658',\n",
       "       'home_team_id_8659', 'home_team_id_8661', 'home_team_id_8667',\n",
       "       'home_team_id_8668', 'home_team_id_8673', 'home_team_id_8674',\n",
       "       'home_team_id_8678', 'home_team_id_8682', 'home_team_id_8686',\n",
       "       'home_team_id_8689', 'home_team_id_8696', 'home_team_id_8697',\n",
       "       'home_team_id_8721', 'home_team_id_8722', 'home_team_id_9747',\n",
       "       'home_team_id_9748', 'home_team_id_9761', 'home_team_id_9764',\n",
       "       'home_team_id_9768', 'home_team_id_9771', 'home_team_id_9772',\n",
       "       'home_team_id_9773', 'home_team_id_9776', 'home_team_id_9777',\n",
       "       'home_team_id_9783', 'home_team_id_9788', 'home_team_id_9789',\n",
       "       'home_team_id_9790', 'home_team_id_9791', 'home_team_id_9798',\n",
       "       'home_team_id_9800', 'home_team_id_9803', 'home_team_id_9804',\n",
       "       'home_team_id_9807', 'home_team_id_9809', 'home_team_id_9810',\n",
       "       'home_team_id_9817', 'home_team_id_9823', 'home_team_id_9824',\n",
       "       'home_team_id_9825', 'home_team_id_9826', 'home_team_id_9827',\n",
       "       'home_team_id_9829', 'home_team_id_9830', 'home_team_id_9831',\n",
       "       'home_team_id_9836', 'home_team_id_9837', 'home_team_id_9839',\n",
       "       'home_team_id_9847', 'home_team_id_9850', 'home_team_id_9851',\n",
       "       'home_team_id_9853', 'home_team_id_9855', 'home_team_id_9857',\n",
       "       'home_team_id_9858', 'home_team_id_9860', 'home_team_id_9864',\n",
       "       'home_team_id_9865', 'home_team_id_9867', 'home_team_id_9868',\n",
       "       'home_team_id_9869', 'home_team_id_9873', 'home_team_id_9874',\n",
       "       'home_team_id_9875', 'home_team_id_9876', 'home_team_id_9878',\n",
       "       'home_team_id_9879', 'home_team_id_9880', 'home_team_id_9882',\n",
       "       'home_team_id_9885', 'home_team_id_9888', 'home_team_id_9891',\n",
       "       'home_team_id_9904', 'home_team_id_9905', 'home_team_id_9906',\n",
       "       'home_team_id_9908', 'home_team_id_9910', 'home_team_id_9911',\n",
       "       'home_team_id_9925', 'home_team_id_9927', 'home_team_id_9930',\n",
       "       'home_team_id_9931', 'home_team_id_9938', 'home_team_id_9941',\n",
       "       'home_team_id_9956', 'home_team_id_9976', 'home_team_id_9984',\n",
       "       'home_team_id_9985', 'home_team_id_9986', 'home_team_id_9987',\n",
       "       'home_team_id_9989', 'home_team_id_9991', 'home_team_id_9993',\n",
       "       'home_team_id_9994', 'home_team_id_9997', 'home_team_id_9998',\n",
       "       'home_team_id_9999', 'home_team_id_10000', 'home_team_id_10001',\n",
       "       'home_team_id_10003', 'home_team_id_10167', 'home_team_id_10172',\n",
       "       'home_team_id_10179', 'home_team_id_10189', 'home_team_id_10190',\n",
       "       'home_team_id_10191', 'home_team_id_10192', 'home_team_id_10194',\n",
       "       'home_team_id_10199', 'home_team_id_10205', 'home_team_id_10211',\n",
       "       'home_team_id_10212', 'home_team_id_10214', 'home_team_id_10215',\n",
       "       'home_team_id_10217', 'home_team_id_10218', 'home_team_id_10219',\n",
       "       'home_team_id_10228', 'home_team_id_10229', 'home_team_id_10233',\n",
       "       'home_team_id_10235', 'home_team_id_10238', 'home_team_id_10242',\n",
       "       'home_team_id_10243', 'home_team_id_10249', 'home_team_id_10251',\n",
       "       'home_team_id_10252', 'home_team_id_10260', 'home_team_id_10261',\n",
       "       'home_team_id_10264', 'home_team_id_10265', 'home_team_id_10267',\n",
       "       'home_team_id_10268', 'home_team_id_10269', 'home_team_id_10278',\n",
       "       'home_team_id_10281', 'home_team_id_108893', 'home_team_id_158085',\n",
       "       'home_team_id_208931', 'home_team_id_274581', 'away_team_id_1601',\n",
       "       'away_team_id_1773', 'away_team_id_1957', 'away_team_id_2033',\n",
       "       'away_team_id_2182', 'away_team_id_2183', 'away_team_id_2186',\n",
       "       'away_team_id_4087', 'away_team_id_4170', 'away_team_id_6269',\n",
       "       'away_team_id_6351', 'away_team_id_6391', 'away_team_id_6403',\n",
       "       'away_team_id_6413', 'away_team_id_6421', 'away_team_id_6433',\n",
       "       'away_team_id_6493', 'away_team_id_7730', 'away_team_id_7788',\n",
       "       'away_team_id_7794', 'away_team_id_7819', 'away_team_id_7841',\n",
       "       'away_team_id_7842', 'away_team_id_7844', 'away_team_id_7869',\n",
       "       'away_team_id_7878', 'away_team_id_7943', 'away_team_id_7955',\n",
       "       'away_team_id_8019', 'away_team_id_8020', 'away_team_id_8021',\n",
       "       'away_team_id_8023', 'away_team_id_8024', 'away_team_id_8025',\n",
       "       'away_team_id_8027', 'away_team_id_8028', 'away_team_id_8030',\n",
       "       'away_team_id_8031', 'away_team_id_8033', 'away_team_id_8066',\n",
       "       'away_team_id_8121', 'away_team_id_8152', 'away_team_id_8165',\n",
       "       'away_team_id_8177', 'away_team_id_8178', 'away_team_id_8191',\n",
       "       'away_team_id_8194', 'away_team_id_8197', 'away_team_id_8203',\n",
       "       'away_team_id_8226', 'away_team_id_8234', 'away_team_id_8242',\n",
       "       'away_team_id_8244', 'away_team_id_8245', 'away_team_id_8262',\n",
       "       'away_team_id_8277', 'away_team_id_8284', 'away_team_id_8302',\n",
       "       'away_team_id_8305', 'away_team_id_8306', 'away_team_id_8315',\n",
       "       'away_team_id_8322', 'away_team_id_8342', 'away_team_id_8344',\n",
       "       'away_team_id_8348', 'away_team_id_8350', 'away_team_id_8357',\n",
       "       'away_team_id_8358', 'away_team_id_8370', 'away_team_id_8371',\n",
       "       'away_team_id_8372', 'away_team_id_8394', 'away_team_id_8406',\n",
       "       'away_team_id_8426', 'away_team_id_8429', 'away_team_id_8455',\n",
       "       'away_team_id_8456', 'away_team_id_8457', 'away_team_id_8460',\n",
       "       'away_team_id_8462', 'away_team_id_8464', 'away_team_id_8466',\n",
       "       'away_team_id_8467', 'away_team_id_8472', 'away_team_id_8475',\n",
       "       'away_team_id_8481', 'away_team_id_8483', 'away_team_id_8485',\n",
       "       'away_team_id_8521', 'away_team_id_8524', 'away_team_id_8525',\n",
       "       'away_team_id_8526', 'away_team_id_8528', 'away_team_id_8529',\n",
       "       'away_team_id_8530', 'away_team_id_8533', 'away_team_id_8534',\n",
       "       'away_team_id_8535', 'away_team_id_8537', 'away_team_id_8540',\n",
       "       'away_team_id_8543', 'away_team_id_8548', 'away_team_id_8550',\n",
       "       'away_team_id_8551', 'away_team_id_8558', 'away_team_id_8559',\n",
       "       'away_team_id_8560', 'away_team_id_8564', 'away_team_id_8569',\n",
       "       'away_team_id_8571', 'away_team_id_8573', 'away_team_id_8576',\n",
       "       'away_team_id_8581', 'away_team_id_8583', 'away_team_id_8586',\n",
       "       'away_team_id_8588', 'away_team_id_8592', 'away_team_id_8593',\n",
       "       'away_team_id_8596', 'away_team_id_8597', 'away_team_id_8600',\n",
       "       'away_team_id_8602', 'away_team_id_8603', 'away_team_id_8611',\n",
       "       'away_team_id_8613', 'away_team_id_8614', 'away_team_id_8633',\n",
       "       'away_team_id_8634', 'away_team_id_8635', 'away_team_id_8636',\n",
       "       'away_team_id_8639', 'away_team_id_8640', 'away_team_id_8649',\n",
       "       'away_team_id_8650', 'away_team_id_8654', 'away_team_id_8655',\n",
       "       'away_team_id_8658', 'away_team_id_8659', 'away_team_id_8661',\n",
       "       'away_team_id_8667', 'away_team_id_8668', 'away_team_id_8673',\n",
       "       'away_team_id_8674', 'away_team_id_8678', 'away_team_id_8682',\n",
       "       'away_team_id_8686', 'away_team_id_8689', 'away_team_id_8696',\n",
       "       'away_team_id_8697', 'away_team_id_8721', 'away_team_id_8722',\n",
       "       'away_team_id_9747', 'away_team_id_9748', 'away_team_id_9761',\n",
       "       'away_team_id_9764', 'away_team_id_9768', 'away_team_id_9771',\n",
       "       'away_team_id_9772', 'away_team_id_9773', 'away_team_id_9776',\n",
       "       'away_team_id_9777', 'away_team_id_9783', 'away_team_id_9788',\n",
       "       'away_team_id_9789', 'away_team_id_9790', 'away_team_id_9791',\n",
       "       'away_team_id_9798', 'away_team_id_9800', 'away_team_id_9803',\n",
       "       'away_team_id_9804', 'away_team_id_9807', 'away_team_id_9809',\n",
       "       'away_team_id_9810', 'away_team_id_9817', 'away_team_id_9823',\n",
       "       'away_team_id_9824', 'away_team_id_9825', 'away_team_id_9826',\n",
       "       'away_team_id_9827', 'away_team_id_9829', 'away_team_id_9830',\n",
       "       'away_team_id_9831', 'away_team_id_9836', 'away_team_id_9837',\n",
       "       'away_team_id_9839', 'away_team_id_9847', 'away_team_id_9850',\n",
       "       'away_team_id_9851', 'away_team_id_9853', 'away_team_id_9855',\n",
       "       'away_team_id_9857', 'away_team_id_9858', 'away_team_id_9860',\n",
       "       'away_team_id_9864', 'away_team_id_9865', 'away_team_id_9867',\n",
       "       'away_team_id_9868', 'away_team_id_9869', 'away_team_id_9873',\n",
       "       'away_team_id_9874', 'away_team_id_9875', 'away_team_id_9876',\n",
       "       'away_team_id_9878', 'away_team_id_9879', 'away_team_id_9880',\n",
       "       'away_team_id_9882', 'away_team_id_9885', 'away_team_id_9888',\n",
       "       'away_team_id_9891', 'away_team_id_9904', 'away_team_id_9905',\n",
       "       'away_team_id_9906', 'away_team_id_9908', 'away_team_id_9910',\n",
       "       'away_team_id_9911', 'away_team_id_9925', 'away_team_id_9927',\n",
       "       'away_team_id_9930', 'away_team_id_9931', 'away_team_id_9938',\n",
       "       'away_team_id_9941', 'away_team_id_9956', 'away_team_id_9976',\n",
       "       'away_team_id_9984', 'away_team_id_9985', 'away_team_id_9986',\n",
       "       'away_team_id_9987', 'away_team_id_9989', 'away_team_id_9991',\n",
       "       'away_team_id_9993', 'away_team_id_9994', 'away_team_id_9997',\n",
       "       'away_team_id_9998', 'away_team_id_9999', 'away_team_id_10000',\n",
       "       'away_team_id_10001', 'away_team_id_10003', 'away_team_id_10167',\n",
       "       'away_team_id_10172', 'away_team_id_10179', 'away_team_id_10189',\n",
       "       'away_team_id_10190', 'away_team_id_10191', 'away_team_id_10192',\n",
       "       'away_team_id_10194', 'away_team_id_10199', 'away_team_id_10205',\n",
       "       'away_team_id_10211', 'away_team_id_10212', 'away_team_id_10214',\n",
       "       'away_team_id_10215', 'away_team_id_10217', 'away_team_id_10218',\n",
       "       'away_team_id_10219', 'away_team_id_10228', 'away_team_id_10229',\n",
       "       'away_team_id_10233', 'away_team_id_10235', 'away_team_id_10238',\n",
       "       'away_team_id_10242', 'away_team_id_10243', 'away_team_id_10249',\n",
       "       'away_team_id_10251', 'away_team_id_10252', 'away_team_id_10260',\n",
       "       'away_team_id_10261', 'away_team_id_10264', 'away_team_id_10265',\n",
       "       'away_team_id_10267', 'away_team_id_10268', 'away_team_id_10269',\n",
       "       'away_team_id_10278', 'away_team_id_10281', 'away_team_id_108893',\n",
       "       'away_team_id_158085', 'away_team_id_208931',\n",
       "       'away_team_id_274581'], dtype=object)"
      ]
     },
     "execution_count": 6,
     "metadata": {},
     "output_type": "execute_result"
    }
   ],
   "source": [
    "data.columns.values"
   ]
  },
  {
   "cell_type": "code",
   "execution_count": 7,
   "metadata": {},
   "outputs": [
    {
     "data": {
      "text/html": [
       "<div>\n",
       "<style scoped>\n",
       "    .dataframe tbody tr th:only-of-type {\n",
       "        vertical-align: middle;\n",
       "    }\n",
       "\n",
       "    .dataframe tbody tr th {\n",
       "        vertical-align: top;\n",
       "    }\n",
       "\n",
       "    .dataframe thead th {\n",
       "        text-align: right;\n",
       "    }\n",
       "</style>\n",
       "<table border=\"1\" class=\"dataframe\">\n",
       "  <thead>\n",
       "    <tr style=\"text-align: right;\">\n",
       "      <th></th>\n",
       "      <th>match_id</th>\n",
       "      <th>stage</th>\n",
       "      <th>home_buildUpPlaySpeed</th>\n",
       "      <th>home_buildUpPlayPassing</th>\n",
       "      <th>home_chanceCreationPassing</th>\n",
       "      <th>home_chanceCreationShooting</th>\n",
       "      <th>home_defencePressure</th>\n",
       "      <th>home_defenceAggression</th>\n",
       "      <th>home_defenceTeamWidth</th>\n",
       "      <th>away_buildUpPlaySpeed</th>\n",
       "      <th>...</th>\n",
       "      <th>away_team_id_10265</th>\n",
       "      <th>away_team_id_10267</th>\n",
       "      <th>away_team_id_10268</th>\n",
       "      <th>away_team_id_10269</th>\n",
       "      <th>away_team_id_10278</th>\n",
       "      <th>away_team_id_10281</th>\n",
       "      <th>away_team_id_108893</th>\n",
       "      <th>away_team_id_158085</th>\n",
       "      <th>away_team_id_208931</th>\n",
       "      <th>away_team_id_274581</th>\n",
       "    </tr>\n",
       "  </thead>\n",
       "  <tbody>\n",
       "    <tr>\n",
       "      <th>0</th>\n",
       "      <td>414</td>\n",
       "      <td>23</td>\n",
       "      <td>45</td>\n",
       "      <td>35</td>\n",
       "      <td>70</td>\n",
       "      <td>55</td>\n",
       "      <td>65</td>\n",
       "      <td>60</td>\n",
       "      <td>70</td>\n",
       "      <td>40</td>\n",
       "      <td>...</td>\n",
       "      <td>0.0</td>\n",
       "      <td>0.0</td>\n",
       "      <td>0.0</td>\n",
       "      <td>0.0</td>\n",
       "      <td>0.0</td>\n",
       "      <td>0.0</td>\n",
       "      <td>0.0</td>\n",
       "      <td>0.0</td>\n",
       "      <td>0.0</td>\n",
       "      <td>0.0</td>\n",
       "    </tr>\n",
       "    <tr>\n",
       "      <th>1</th>\n",
       "      <td>421</td>\n",
       "      <td>24</td>\n",
       "      <td>40</td>\n",
       "      <td>50</td>\n",
       "      <td>45</td>\n",
       "      <td>60</td>\n",
       "      <td>70</td>\n",
       "      <td>70</td>\n",
       "      <td>70</td>\n",
       "      <td>60</td>\n",
       "      <td>...</td>\n",
       "      <td>0.0</td>\n",
       "      <td>0.0</td>\n",
       "      <td>0.0</td>\n",
       "      <td>0.0</td>\n",
       "      <td>0.0</td>\n",
       "      <td>0.0</td>\n",
       "      <td>0.0</td>\n",
       "      <td>0.0</td>\n",
       "      <td>0.0</td>\n",
       "      <td>0.0</td>\n",
       "    </tr>\n",
       "    <tr>\n",
       "      <th>2</th>\n",
       "      <td>424</td>\n",
       "      <td>24</td>\n",
       "      <td>65</td>\n",
       "      <td>60</td>\n",
       "      <td>50</td>\n",
       "      <td>40</td>\n",
       "      <td>65</td>\n",
       "      <td>70</td>\n",
       "      <td>70</td>\n",
       "      <td>45</td>\n",
       "      <td>...</td>\n",
       "      <td>0.0</td>\n",
       "      <td>0.0</td>\n",
       "      <td>0.0</td>\n",
       "      <td>0.0</td>\n",
       "      <td>0.0</td>\n",
       "      <td>0.0</td>\n",
       "      <td>0.0</td>\n",
       "      <td>0.0</td>\n",
       "      <td>0.0</td>\n",
       "      <td>0.0</td>\n",
       "    </tr>\n",
       "    <tr>\n",
       "      <th>3</th>\n",
       "      <td>434</td>\n",
       "      <td>26</td>\n",
       "      <td>40</td>\n",
       "      <td>50</td>\n",
       "      <td>45</td>\n",
       "      <td>60</td>\n",
       "      <td>70</td>\n",
       "      <td>70</td>\n",
       "      <td>70</td>\n",
       "      <td>50</td>\n",
       "      <td>...</td>\n",
       "      <td>0.0</td>\n",
       "      <td>0.0</td>\n",
       "      <td>0.0</td>\n",
       "      <td>0.0</td>\n",
       "      <td>0.0</td>\n",
       "      <td>0.0</td>\n",
       "      <td>0.0</td>\n",
       "      <td>0.0</td>\n",
       "      <td>0.0</td>\n",
       "      <td>0.0</td>\n",
       "    </tr>\n",
       "    <tr>\n",
       "      <th>4</th>\n",
       "      <td>435</td>\n",
       "      <td>26</td>\n",
       "      <td>45</td>\n",
       "      <td>35</td>\n",
       "      <td>70</td>\n",
       "      <td>55</td>\n",
       "      <td>65</td>\n",
       "      <td>60</td>\n",
       "      <td>70</td>\n",
       "      <td>60</td>\n",
       "      <td>...</td>\n",
       "      <td>0.0</td>\n",
       "      <td>0.0</td>\n",
       "      <td>0.0</td>\n",
       "      <td>0.0</td>\n",
       "      <td>0.0</td>\n",
       "      <td>0.0</td>\n",
       "      <td>0.0</td>\n",
       "      <td>0.0</td>\n",
       "      <td>0.0</td>\n",
       "      <td>0.0</td>\n",
       "    </tr>\n",
       "  </tbody>\n",
       "</table>\n",
       "<p>5 rows × 612 columns</p>\n",
       "</div>"
      ],
      "text/plain": [
       "   match_id  stage  home_buildUpPlaySpeed  home_buildUpPlayPassing  \\\n",
       "0       414     23                     45                       35   \n",
       "1       421     24                     40                       50   \n",
       "2       424     24                     65                       60   \n",
       "3       434     26                     40                       50   \n",
       "4       435     26                     45                       35   \n",
       "\n",
       "   home_chanceCreationPassing  home_chanceCreationShooting  \\\n",
       "0                          70                           55   \n",
       "1                          45                           60   \n",
       "2                          50                           40   \n",
       "3                          45                           60   \n",
       "4                          70                           55   \n",
       "\n",
       "   home_defencePressure  home_defenceAggression  home_defenceTeamWidth  \\\n",
       "0                    65                      60                     70   \n",
       "1                    70                      70                     70   \n",
       "2                    65                      70                     70   \n",
       "3                    70                      70                     70   \n",
       "4                    65                      60                     70   \n",
       "\n",
       "   away_buildUpPlaySpeed  ...  away_team_id_10265  away_team_id_10267  \\\n",
       "0                     40  ...                 0.0                 0.0   \n",
       "1                     60  ...                 0.0                 0.0   \n",
       "2                     45  ...                 0.0                 0.0   \n",
       "3                     50  ...                 0.0                 0.0   \n",
       "4                     60  ...                 0.0                 0.0   \n",
       "\n",
       "   away_team_id_10268  away_team_id_10269  away_team_id_10278  \\\n",
       "0                 0.0                 0.0                 0.0   \n",
       "1                 0.0                 0.0                 0.0   \n",
       "2                 0.0                 0.0                 0.0   \n",
       "3                 0.0                 0.0                 0.0   \n",
       "4                 0.0                 0.0                 0.0   \n",
       "\n",
       "   away_team_id_10281  away_team_id_108893  away_team_id_158085  \\\n",
       "0                 0.0                  0.0                  0.0   \n",
       "1                 0.0                  0.0                  0.0   \n",
       "2                 0.0                  0.0                  0.0   \n",
       "3                 0.0                  0.0                  0.0   \n",
       "4                 0.0                  0.0                  0.0   \n",
       "\n",
       "   away_team_id_208931  away_team_id_274581  \n",
       "0                  0.0                  0.0  \n",
       "1                  0.0                  0.0  \n",
       "2                  0.0                  0.0  \n",
       "3                  0.0                  0.0  \n",
       "4                  0.0                  0.0  \n",
       "\n",
       "[5 rows x 612 columns]"
      ]
     },
     "execution_count": 7,
     "metadata": {},
     "output_type": "execute_result"
    }
   ],
   "source": [
    "data.head()"
   ]
  },
  {
   "cell_type": "code",
   "execution_count": 5,
   "metadata": {},
   "outputs": [],
   "source": [
    "y = data['match_outcome']\n",
    "X = data.drop(columns=['match_outcome'], axis=1)"
   ]
  },
  {
   "cell_type": "code",
   "execution_count": 6,
   "metadata": {},
   "outputs": [],
   "source": [
    "X_train, X_test, y_train, y_test= train_test_split(X, y, train_size = 0.8, random_state=40)"
   ]
  },
  {
   "cell_type": "code",
   "execution_count": 7,
   "metadata": {},
   "outputs": [],
   "source": [
    "scaler = StandardScaler()\n",
    "scaler.fit(X_train)\n",
    "X_train = scaler.transform(X_train)\n",
    "X_test = scaler.transform(X_test)"
   ]
  },
  {
   "cell_type": "code",
   "execution_count": 8,
   "metadata": {},
   "outputs": [],
   "source": [
    "svd = TruncatedSVD(n_components = 400)"
   ]
  },
  {
   "cell_type": "code",
   "execution_count": 9,
   "metadata": {},
   "outputs": [
    {
     "data": {
      "text/html": [
       "<style>#sk-container-id-1 {color: black;}#sk-container-id-1 pre{padding: 0;}#sk-container-id-1 div.sk-toggleable {background-color: white;}#sk-container-id-1 label.sk-toggleable__label {cursor: pointer;display: block;width: 100%;margin-bottom: 0;padding: 0.3em;box-sizing: border-box;text-align: center;}#sk-container-id-1 label.sk-toggleable__label-arrow:before {content: \"▸\";float: left;margin-right: 0.25em;color: #696969;}#sk-container-id-1 label.sk-toggleable__label-arrow:hover:before {color: black;}#sk-container-id-1 div.sk-estimator:hover label.sk-toggleable__label-arrow:before {color: black;}#sk-container-id-1 div.sk-toggleable__content {max-height: 0;max-width: 0;overflow: hidden;text-align: left;background-color: #f0f8ff;}#sk-container-id-1 div.sk-toggleable__content pre {margin: 0.2em;color: black;border-radius: 0.25em;background-color: #f0f8ff;}#sk-container-id-1 input.sk-toggleable__control:checked~div.sk-toggleable__content {max-height: 200px;max-width: 100%;overflow: auto;}#sk-container-id-1 input.sk-toggleable__control:checked~label.sk-toggleable__label-arrow:before {content: \"▾\";}#sk-container-id-1 div.sk-estimator input.sk-toggleable__control:checked~label.sk-toggleable__label {background-color: #d4ebff;}#sk-container-id-1 div.sk-label input.sk-toggleable__control:checked~label.sk-toggleable__label {background-color: #d4ebff;}#sk-container-id-1 input.sk-hidden--visually {border: 0;clip: rect(1px 1px 1px 1px);clip: rect(1px, 1px, 1px, 1px);height: 1px;margin: -1px;overflow: hidden;padding: 0;position: absolute;width: 1px;}#sk-container-id-1 div.sk-estimator {font-family: monospace;background-color: #f0f8ff;border: 1px dotted black;border-radius: 0.25em;box-sizing: border-box;margin-bottom: 0.5em;}#sk-container-id-1 div.sk-estimator:hover {background-color: #d4ebff;}#sk-container-id-1 div.sk-parallel-item::after {content: \"\";width: 100%;border-bottom: 1px solid gray;flex-grow: 1;}#sk-container-id-1 div.sk-label:hover label.sk-toggleable__label {background-color: #d4ebff;}#sk-container-id-1 div.sk-serial::before {content: \"\";position: absolute;border-left: 1px solid gray;box-sizing: border-box;top: 0;bottom: 0;left: 50%;z-index: 0;}#sk-container-id-1 div.sk-serial {display: flex;flex-direction: column;align-items: center;background-color: white;padding-right: 0.2em;padding-left: 0.2em;position: relative;}#sk-container-id-1 div.sk-item {position: relative;z-index: 1;}#sk-container-id-1 div.sk-parallel {display: flex;align-items: stretch;justify-content: center;background-color: white;position: relative;}#sk-container-id-1 div.sk-item::before, #sk-container-id-1 div.sk-parallel-item::before {content: \"\";position: absolute;border-left: 1px solid gray;box-sizing: border-box;top: 0;bottom: 0;left: 50%;z-index: -1;}#sk-container-id-1 div.sk-parallel-item {display: flex;flex-direction: column;z-index: 1;position: relative;background-color: white;}#sk-container-id-1 div.sk-parallel-item:first-child::after {align-self: flex-end;width: 50%;}#sk-container-id-1 div.sk-parallel-item:last-child::after {align-self: flex-start;width: 50%;}#sk-container-id-1 div.sk-parallel-item:only-child::after {width: 0;}#sk-container-id-1 div.sk-dashed-wrapped {border: 1px dashed gray;margin: 0 0.4em 0.5em 0.4em;box-sizing: border-box;padding-bottom: 0.4em;background-color: white;}#sk-container-id-1 div.sk-label label {font-family: monospace;font-weight: bold;display: inline-block;line-height: 1.2em;}#sk-container-id-1 div.sk-label-container {text-align: center;}#sk-container-id-1 div.sk-container {/* jupyter's `normalize.less` sets `[hidden] { display: none; }` but bootstrap.min.css set `[hidden] { display: none !important; }` so we also need the `!important` here to be able to override the default hidden behavior on the sphinx rendered scikit-learn.org. See: https://github.com/scikit-learn/scikit-learn/issues/21755 */display: inline-block !important;position: relative;}#sk-container-id-1 div.sk-text-repr-fallback {display: none;}</style><div id=\"sk-container-id-1\" class=\"sk-top-container\"><div class=\"sk-text-repr-fallback\"><pre>TruncatedSVD(n_components=400)</pre><b>In a Jupyter environment, please rerun this cell to show the HTML representation or trust the notebook. <br />On GitHub, the HTML representation is unable to render, please try loading this page with nbviewer.org.</b></div><div class=\"sk-container\" hidden><div class=\"sk-item\"><div class=\"sk-estimator sk-toggleable\"><input class=\"sk-toggleable__control sk-hidden--visually\" id=\"sk-estimator-id-1\" type=\"checkbox\" checked><label for=\"sk-estimator-id-1\" class=\"sk-toggleable__label sk-toggleable__label-arrow\">TruncatedSVD</label><div class=\"sk-toggleable__content\"><pre>TruncatedSVD(n_components=400)</pre></div></div></div></div></div>"
      ],
      "text/plain": [
       "TruncatedSVD(n_components=400)"
      ]
     },
     "execution_count": 9,
     "metadata": {},
     "output_type": "execute_result"
    }
   ],
   "source": [
    "svd.fit(X_train)"
   ]
  },
  {
   "cell_type": "code",
   "execution_count": 10,
   "metadata": {},
   "outputs": [],
   "source": [
    "X_train_PCA = svd.transform(X_train)\n",
    "X_test_PCA = svd.transform(X_test)"
   ]
  },
  {
   "cell_type": "markdown",
   "metadata": {},
   "source": [
    "## Logistic Regression"
   ]
  },
  {
   "cell_type": "markdown",
   "metadata": {},
   "source": [
    "### l1 regularization"
   ]
  },
  {
   "cell_type": "code",
   "execution_count": 11,
   "metadata": {},
   "outputs": [
    {
     "name": "stdout",
     "output_type": "stream",
     "text": [
      "Best Parameters: {'C': 0.1, 'class_weight': None}\n",
      "{'accuracy': 0.5028423772609819, 'f1': 0.39095747117429464, 'precision': 0.43272255956819716, 'recall': 0.43272255956819716, 'confusion_matrix': array([[ 456,   57,  560],\n",
      "       [ 246,   56,  688],\n",
      "       [ 306,   67, 1434]])}\n"
     ]
    }
   ],
   "source": [
    "model = LogisticRegression(solver='liblinear', penalty='l1', max_iter=500)\n",
    "param_grid = {\n",
    "    'C': [0.01, 0.1, 1.0, 10.0, 100.0],\n",
    "    'class_weight': [None, 'balanced'],\n",
    "}\n",
    "grid_search = GridSearchCV(estimator=model, param_grid=param_grid, cv=5, scoring='accuracy')\n",
    "grid_search.fit(X_train_PCA, y_train)\n",
    "print(\"Best Parameters:\", grid_search.best_params_)\n",
    "best_model = grid_search.best_estimator_\n",
    "y_predicted = best_model.predict(X_test_PCA)\n",
    "evaluation = evaluate_prediction(y_test, y_predicted)\n",
    "print(evaluation)"
   ]
  },
  {
   "cell_type": "markdown",
   "metadata": {},
   "source": [
    "### l2 regularization"
   ]
  },
  {
   "cell_type": "code",
   "execution_count": 12,
   "metadata": {},
   "outputs": [
    {
     "name": "stdout",
     "output_type": "stream",
     "text": [
      "Best Parameters: {'C': 0.1, 'class_weight': None}\n",
      "{'accuracy': 0.4979328165374677, 'f1': 0.3973993406466607, 'precision': 0.4233805011239215, 'recall': 0.4233805011239215, 'confusion_matrix': array([[ 462,   88,  523],\n",
      "       [ 251,   74,  665],\n",
      "       [ 315,  101, 1391]])}\n"
     ]
    }
   ],
   "source": [
    "model = LogisticRegression(solver='lbfgs', penalty='l2', max_iter=500)\n",
    "param_grid = {\n",
    "    'C': [0.01, 0.1, 1.0, 10.0, 100.0],\n",
    "    'class_weight': [None, 'balanced'],\n",
    "}\n",
    "grid_search = GridSearchCV(estimator=model, param_grid=param_grid, cv=5, scoring='accuracy')\n",
    "grid_search.fit(X_train_PCA, y_train)\n",
    "print(\"Best Parameters:\", grid_search.best_params_)\n",
    "best_model = grid_search.best_estimator_\n",
    "y_predicted = best_model.predict(X_test_PCA)\n",
    "evaluation = evaluate_prediction(y_test, y_predicted)\n",
    "print(evaluation)"
   ]
  },
  {
   "cell_type": "markdown",
   "metadata": {},
   "source": [
    "### elasticnet regularization"
   ]
  },
  {
   "cell_type": "code",
   "execution_count": 13,
   "metadata": {},
   "outputs": [
    {
     "name": "stderr",
     "output_type": "stream",
     "text": [
      "/home/mira/.local/lib/python3.8/site-packages/sklearn/linear_model/_sag.py:350: ConvergenceWarning: The max_iter was reached which means the coef_ did not converge\n",
      "  warnings.warn(\n",
      "/home/mira/.local/lib/python3.8/site-packages/sklearn/linear_model/_sag.py:350: ConvergenceWarning: The max_iter was reached which means the coef_ did not converge\n",
      "  warnings.warn(\n",
      "/home/mira/.local/lib/python3.8/site-packages/sklearn/linear_model/_sag.py:350: ConvergenceWarning: The max_iter was reached which means the coef_ did not converge\n",
      "  warnings.warn(\n",
      "/home/mira/.local/lib/python3.8/site-packages/sklearn/linear_model/_sag.py:350: ConvergenceWarning: The max_iter was reached which means the coef_ did not converge\n",
      "  warnings.warn(\n",
      "/home/mira/.local/lib/python3.8/site-packages/sklearn/linear_model/_sag.py:350: ConvergenceWarning: The max_iter was reached which means the coef_ did not converge\n",
      "  warnings.warn(\n",
      "/home/mira/.local/lib/python3.8/site-packages/sklearn/linear_model/_sag.py:350: ConvergenceWarning: The max_iter was reached which means the coef_ did not converge\n",
      "  warnings.warn(\n",
      "/home/mira/.local/lib/python3.8/site-packages/sklearn/linear_model/_sag.py:350: ConvergenceWarning: The max_iter was reached which means the coef_ did not converge\n",
      "  warnings.warn(\n",
      "/home/mira/.local/lib/python3.8/site-packages/sklearn/linear_model/_sag.py:350: ConvergenceWarning: The max_iter was reached which means the coef_ did not converge\n",
      "  warnings.warn(\n",
      "/home/mira/.local/lib/python3.8/site-packages/sklearn/linear_model/_sag.py:350: ConvergenceWarning: The max_iter was reached which means the coef_ did not converge\n",
      "  warnings.warn(\n",
      "/home/mira/.local/lib/python3.8/site-packages/sklearn/linear_model/_sag.py:350: ConvergenceWarning: The max_iter was reached which means the coef_ did not converge\n",
      "  warnings.warn(\n",
      "/home/mira/.local/lib/python3.8/site-packages/sklearn/linear_model/_sag.py:350: ConvergenceWarning: The max_iter was reached which means the coef_ did not converge\n",
      "  warnings.warn(\n",
      "/home/mira/.local/lib/python3.8/site-packages/sklearn/linear_model/_sag.py:350: ConvergenceWarning: The max_iter was reached which means the coef_ did not converge\n",
      "  warnings.warn(\n"
     ]
    },
    {
     "name": "stdout",
     "output_type": "stream",
     "text": [
      "Best Parameters: {'C': 0.1, 'l1_ratio': 1}\n",
      "{'accuracy': 0.5031007751937985, 'f1': 0.3986280585832096, 'precision': 0.43726290270785473, 'recall': 0.43726290270785473, 'confusion_matrix': array([[ 460,   67,  546],\n",
      "       [ 244,   71,  675],\n",
      "       [ 307,   84, 1416]])}\n"
     ]
    }
   ],
   "source": [
    "model = LogisticRegression(solver='saga', penalty='elasticnet', max_iter=5000)\n",
    "param_grid = {\n",
    "    'C': [0.1, 1.0, 10.0],\n",
    "    'l1_ratio':[0, 0.5, 1]\n",
    "}\n",
    "grid_search = GridSearchCV(estimator=model, param_grid=param_grid, cv=5, scoring='accuracy')\n",
    "grid_search.fit(X_train_PCA, y_train)\n",
    "print(\"Best Parameters:\", grid_search.best_params_)\n",
    "best_model = grid_search.best_estimator_\n",
    "y_predicted = best_model.predict(X_test_PCA)\n",
    "evaluation = evaluate_prediction(y_test, y_predicted)\n",
    "print(evaluation)"
   ]
  },
  {
   "cell_type": "markdown",
   "metadata": {},
   "source": [
    "## k-Nearest Neighbors"
   ]
  },
  {
   "cell_type": "code",
   "execution_count": 14,
   "metadata": {},
   "outputs": [
    {
     "name": "stdout",
     "output_type": "stream",
     "text": [
      "Best Parameters: {'metric': 'euclidean', 'n_neighbors': 11, 'weights': 'distance'}\n",
      "{'accuracy': 0.4682170542635659, 'f1': 0.40608913752563097, 'precision': 0.4108507517544589, 'recall': 0.4108507517544589, 'confusion_matrix': array([[ 434,  199,  440],\n",
      "       [ 284,  166,  540],\n",
      "       [ 364,  231, 1212]])}\n"
     ]
    }
   ],
   "source": [
    "model = KNeighborsClassifier()\n",
    "param_grid = {\n",
    "    'n_neighbors': [3, 5, 7, 9, 11],\n",
    "    'weights': ['uniform', 'distance'], # handling imbalansed data in this algorithm\n",
    "    'metric': ['euclidean', 'manhattan']\n",
    "}\n",
    "grid_search = GridSearchCV(estimator=model, param_grid=param_grid, cv=5, scoring='accuracy')\n",
    "grid_search.fit(X_train_PCA, y_train)\n",
    "print(\"Best Parameters:\", grid_search.best_params_)\n",
    "best_model = grid_search.best_estimator_\n",
    "y_predicted = best_model.predict(X_test_PCA)\n",
    "evaluation = evaluate_prediction(y_test, y_predicted)\n",
    "print(evaluation)"
   ]
  },
  {
   "cell_type": "markdown",
   "metadata": {},
   "source": [
    "## Support Vector Machine"
   ]
  },
  {
   "cell_type": "code",
   "execution_count": 11,
   "metadata": {},
   "outputs": [
    {
     "name": "stdout",
     "output_type": "stream",
     "text": [
      "Best Parameters: {'C': 1.0}\n",
      "{'accuracy': 0.5077519379844961, 'f1': 0.3690068313726808, 'precision': 0.4106410832806297, 'recall': 0.4106410832806297, 'confusion_matrix': array([[ 431,   22,  620],\n",
      "       [ 240,   15,  735],\n",
      "       [ 263,   25, 1519]])}\n"
     ]
    }
   ],
   "source": [
    "model = SVC(kernel='linear')\n",
    "param_grid = {\n",
    "    'C': [0.1, 1.0]\n",
    "}\n",
    "grid_search = GridSearchCV(estimator=model, param_grid=param_grid, cv=5, scoring='accuracy')\n",
    "grid_search.fit(X_train_PCA, y_train)\n",
    "print(\"Best Parameters:\", grid_search.best_params_)\n",
    "best_model = grid_search.best_estimator_\n",
    "y_predicted = best_model.predict(X_test_PCA)\n",
    "evaluation = evaluate_prediction(y_test, y_predicted)\n",
    "print(evaluation)"
   ]
  },
  {
   "cell_type": "markdown",
   "metadata": {},
   "source": [
    "## Decision Tree"
   ]
  },
  {
   "cell_type": "code",
   "execution_count": 13,
   "metadata": {},
   "outputs": [
    {
     "name": "stdout",
     "output_type": "stream",
     "text": [
      "Best Parameters:, 100.0 {'class_weight': None, 'max_depth': 5}\n",
      "{'accuracy': 0.4669250645994832, 'f1': 0.2771774960899296, 'precision': 0.34228811933696673, 'recall': 0.34228811933696673, 'confusion_matrix': array([[ 148,    1,  924],\n",
      "       [ 136,    1,  853],\n",
      "       [ 146,    3, 1658]])}\n"
     ]
    }
   ],
   "source": [
    "model = DecisionTreeClassifier()\n",
    "param_grid = {\n",
    "    'max_depth': [5, 10, 15, 20],    # Maximum depth of the tree\n",
    "    'class_weight': [None, 'balanced']\n",
    "}\n",
    "grid_search = GridSearchCV(estimator=model, param_grid=param_grid, cv=5, scoring='accuracy')\n",
    "grid_search.fit(X_train_PCA, y_train)\n",
    "print(\"Best Parameters:, 100.0\", grid_search.best_params_)\n",
    "best_model = grid_search.best_estimator_\n",
    "y_predicted = best_model.predict(X_test_PCA)\n",
    "evaluation = evaluate_prediction(y_test, y_predicted)\n",
    "print(evaluation)"
   ]
  },
  {
   "cell_type": "markdown",
   "metadata": {},
   "source": [
    "## Random Forest"
   ]
  },
  {
   "cell_type": "code",
   "execution_count": 14,
   "metadata": {},
   "outputs": [
    {
     "name": "stdout",
     "output_type": "stream",
     "text": [
      "Best Parameters: {'class_weight': None, 'max_depth': 10, 'n_estimators': 150}\n",
      "{'accuracy': 0.49844961240310076, 'f1': 0.31670493701250885, 'precision': 0.4382388473761414, 'recall': 0.4382388473761414, 'confusion_matrix': array([[ 200,   14,  859],\n",
      "       [ 103,   11,  876],\n",
      "       [  76,   13, 1718]])}\n"
     ]
    }
   ],
   "source": [
    "model = RandomForestClassifier()\n",
    "param_grid = {\n",
    "    'n_estimators': [50, 100, 150],\n",
    "    'max_depth': [5, 10, 15, 20],\n",
    "    'class_weight': [None, 'balanced'],\n",
    "}\n",
    "grid_search = GridSearchCV(estimator=model, param_grid=param_grid, cv=5, scoring='accuracy')\n",
    "grid_search.fit(X_train_PCA, y_train)\n",
    "print(\"Best Parameters:\", grid_search.best_params_)\n",
    "best_model = grid_search.best_estimator_\n",
    "y_predicted = best_model.predict(X_test_PCA)\n",
    "evaluation = evaluate_prediction(y_test, y_predicted)\n",
    "print(evaluation)"
   ]
  },
  {
   "cell_type": "markdown",
   "metadata": {},
   "source": [
    "# Comparison of results"
   ]
  },
  {
   "cell_type": "code",
   "execution_count": 8,
   "metadata": {},
   "outputs": [],
   "source": [
    "def plot(data, measure):\n",
    "    algorithm_names = ['Logistic Regression(l1 regularization)', 'Logistic Regression(l2 regularization)', 'Logistic Regression(elasticnet regularization)', 'k-Nearest Neighbors', 'Support Vector Machine', 'Decision Tree', 'Random Forest']\n",
    " \n",
    "    plt.figure(figsize=(10, 6))\n",
    "    bars = plt.bar(algorithm_names, data, color=['#1f77b4', '#ff7f0e', '#2ca02c', '#d62728', '#9467bd', '#8c564b', '#e377c2'])\n",
    "\n",
    "    for bar in bars:\n",
    "        yval = bar.get_height()\n",
    "        plt.text(bar.get_x() + bar.get_width()/2, yval + 0.01, f'{yval:.4f}', ha='center', va='bottom')\n",
    "\n",
    "    plt.xticks(rotation=90)\n",
    "\n",
    "    plt.xlabel('Algorithm')\n",
    "    plt.ylabel(measure)\n",
    "    plt.title('Comparison of Model ' + measure)\n",
    "    plt.ylim(0, 1)\n",
    "    plt.show()"
   ]
  },
  {
   "cell_type": "code",
   "execution_count": 12,
   "metadata": {},
   "outputs": [
    {
     "data": {
      "image/png": "[encoded data removed]",
      "text/plain": [
       "<Figure size 720x432 with 1 Axes>"
      ]
     },
     "metadata": {
      "needs_background": "light"
     },
     "output_type": "display_data"
    }
   ],
   "source": [
    "accuracy = [0.5028, 0.4979, 0.5031, 0.4682, 0.5078, 0.4669, 0.4984]\n",
    "plot(accuracy, 'Accuracy')"
   ]
  },
  {
   "cell_type": "code",
   "execution_count": 14,
   "metadata": {},
   "outputs": [
    {
     "data": {
      "image/png": "[encoded data removed]",
      "text/plain": [
       "<Figure size 720x432 with 1 Axes>"
      ]
     },
     "metadata": {
      "needs_background": "light"
     },
     "output_type": "display_data"
    }
   ],
   "source": [
    "precision = [0.4327, 0.4234, 0.4373, 0.4109, 0.4106, 0.3423, 0.4382]\n",
    "plot(precision, 'Precision')"
   ]
  },
  {
   "cell_type": "code",
   "execution_count": 13,
   "metadata": {},
   "outputs": [
    {
     "data": {
      "image/png": "[encoded data removed]",
      "text/plain": [
       "<Figure size 720x432 with 1 Axes>"
      ]
     },
     "metadata": {
      "needs_background": "light"
     },
     "output_type": "display_data"
    }
   ],
   "source": [
    "recall = [0.4327, 0.4234, 0.4373, 0.4109, 0.4106, 0.3423, 0.4382]\n",
    "plot(recall, 'Recall')"
   ]
  },
  {
   "cell_type": "code",
   "execution_count": 15,
   "metadata": {},
   "outputs": [
    {
     "data": {
      "image/png": "[encoded data removed]",
      "text/plain": [
       "<Figure size 720x432 with 1 Axes>"
      ]
     },
     "metadata": {
      "needs_background": "light"
     },
     "output_type": "display_data"
    }
   ],
   "source": [
    "f1 = [0.391, 0.3974, 0.3986, 0.4061, 0.369, 0.2772, 0.3167]\n",
    "plot(f1, 'f1')"
   ]
  }
 ],
 "metadata": {
  "kernelspec": {
   "display_name": "Python 3",
   "language": "python",
   "name": "python3"
  },
  "language_info": {
   "codemirror_mode": {
    "name": "ipython",
    "version": 3
   },
   "file_extension": ".py",
   "mimetype": "text/x-python",
   "name": "python",
   "nbconvert_exporter": "python",
   "pygments_lexer": "ipython3",
   "version": "3.8.10"
  }
 },
 "nbformat": 4,
 "nbformat_minor": 2
}
